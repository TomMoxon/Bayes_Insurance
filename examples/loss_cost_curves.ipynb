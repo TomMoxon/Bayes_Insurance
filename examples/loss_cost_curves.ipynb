{
 "cells": [
  {
   "cell_type": "markdown",
   "metadata": {},
   "source": [
    "# Bayesian Modelling for Loss Curves\n",
    "\n",
    "This notebook aims to translate the rstan case study [Modelling Loss Curves in Insurance with RStan](https://mc-stan.org/users/documentation/case-studies/losscurves_casestudy.html) by Mick Cooney to [Bambi](https://bambinos.github.io/bambi/) in python."
   ]
  },
  {
   "cell_type": "markdown",
   "metadata": {},
   "source": [
    "## What is Bambi?\n",
    "\n",
    "Bambi is a Python package that serves as an interface for specifying and running Bayesian models. If you're familiar with BRMS in R, you'll find Bambi to be a similar tool. It simplifies the process of fitting Bayesian multi-level models by allowing you to provide an equation (in a syntax similar to lmer), a likelihood family, priors, and data. Under the hood, Bambi utilizes [PyMC](https://www.pymc.io/) to handle the heavy lifting, making it ideal for quick prototyping, experimentation, and providing a more accessible introduction to probabilistic modeling compared to working directly with lower-level frameworks.\n",
    "\n",
    "\n",
    "\n"
   ]
  },
  {
   "cell_type": "markdown",
   "metadata": {},
   "source": [
    "## What are Loss Curves?\n",
    "\n",
    "When you purchase insurance from a company, you typically pay an upfront amount known as a premium, with the expectation that if you need to make a claim in the future, the company will provide a payout. On an individual policy basis, your claim may exceed the amount you paid in premiums, be less than that, or you may not make a claim at all. However, from the insurer's perspective, they are more concerned with the collective policies of a specific type. They aim to ensure that across all policies, the total amount claimed is less than the premiums charged, with the difference being sufficient to cover their costs and generate a profit.\n",
    "\n",
    "One challenge insurers face is determining the amount of capital they need to reserve to cover potential claims. Since some claims may take years to materialize, it is crucial for insurers to understand how losses develop over time for different types of policies. For instance, a claim related to a car accident is likely to be reported, assessed, and paid quickly. On the other hand, something like medical malpractice may take time to become apparent, followed by complex investigations and legal proceedings, thereby extending the loss development period.\n",
    "\n",
    "This is where loss curves prove to be a valuable tool. Loss curves enable insurers to estimate the time it takes for losses to develop and determine the ultimate cost of those losses. By analyzing historical data and industry trends, insurers can construct loss curves specific to each type of policy. These curves provide insights into the expected loss development pattern, helping insurers determine the amount of capital reserves necessary to fulfill their obligations for the policies they underwrite.\n",
    "\n",
    "By utilizing loss curves, insurers can make informed decisions about risk management, capital allocation, and setting premiums. This proactive approach enables them to maintain financial stability, accurately assess their liabilities, and ensure they have sufficient reserves to meet their policyholders' needs.\n"
   ]
  },
  {
   "cell_type": "markdown",
   "metadata": {},
   "source": [
    "## Translating to Bambi\n",
    "\n",
    "This next section will follow the stan case study translating the model over to python and Bambi."
   ]
  },
  {
   "cell_type": "markdown",
   "metadata": {},
   "source": [
    "### Overview\n",
    "\n",
    "The case study looks at two structures for the loss curves: Weibull model and log-logistic model.\n",
    "\n",
    "\\begin{equation*}\n",
    "    \\begin{align*}\n",
    "        f(t) &= \\frac{t^{\\omega}}{t^{\\omega} + \\theta^{\\omega}}  &\\text(Weibull)\\\\\n",
    "        f(t) &= 1 - \\exp\\left(-\\left(\\frac{t}{\\omega}\\right)^{\\omega}\\right)  &\\text(Log-logistic)\n",
    "    \\end{align*}\n",
    "\\end{equation*}\n"
   ]
  },
  {
   "cell_type": "markdown",
   "metadata": {},
   "source": [
    "### Data\n",
    "\n",
    "The source of the data used is the [casact](http://www.casact.org) website. Unfortunately the data has been removed, but it is still accessible from the [`raw`](https://github.com/casact/raw_package/tree/master) package in R.\n",
    "\n"
   ]
  },
  {
   "cell_type": "code",
   "execution_count": 3,
   "metadata": {},
   "outputs": [],
   "source": [
    "from pathlib import Path\n",
    "import pandas as pd\n",
    "\n",
    "folder_path = \"data/\"\n",
    "\n",
    "df = pd.concat(\n",
    "    [\n",
    "        pd.read_csv(file_path).assign(lob=file_path.stem)\n",
    "        for file_path in Path(folder_path).iterdir()\n",
    "        if file_path.suffix == '.csv'\n",
    "    ],\n",
    "    ignore_index=True\n",
    ")\n"
   ]
  },
  {
   "cell_type": "code",
   "execution_count": 7,
   "metadata": {},
   "outputs": [],
   "source": [
    "claimdata_tbl = (\n",
    "    df.pipe(lambda x: x.assign(\n",
    "        acc_year=x['AccidentYear'].astype(str),\n",
    "        dev_year=x['DevelopmentYear'],\n",
    "        dev_lag=x['Lag'],\n",
    "        premium=x['DirectEP'],\n",
    "        cum_loss=x['CumulativePaid'],\n",
    "        loss_ratio=x['CumulativePaid'] / x['DirectEP']\n",
    "    ))\n",
    "    .loc[:, ['GroupCode', 'Company', 'lob', 'acc_year', 'dev_year', 'dev_lag', 'premium', 'cum_loss', 'loss_ratio']]\n",
    ")"
   ]
  }
 ],
 "metadata": {
  "kernelspec": {
   "display_name": "bayesian_insurance_examples-ANzdNX61",
   "language": "python",
   "name": "python3"
  },
  "language_info": {
   "codemirror_mode": {
    "name": "ipython",
    "version": 3
   },
   "file_extension": ".py",
   "mimetype": "text/x-python",
   "name": "python",
   "nbconvert_exporter": "python",
   "pygments_lexer": "ipython3",
   "version": "3.11.4"
  },
  "orig_nbformat": 4
 },
 "nbformat": 4,
 "nbformat_minor": 2
}
